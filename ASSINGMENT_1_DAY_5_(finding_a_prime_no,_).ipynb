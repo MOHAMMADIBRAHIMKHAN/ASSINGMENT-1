{
  "nbformat": 4,
  "nbformat_minor": 0,
  "metadata": {
    "colab": {
      "name": "ASSINGMENT 1 DAY 5 (finding a prime no,\\.).ipynb",
      "provenance": [],
      "authorship_tag": "ABX9TyO+LKkFeK0y1rnZPWo6b3pI",
      "include_colab_link": true
    },
    "kernelspec": {
      "name": "python3",
      "display_name": "Python 3"
    }
  },
  "cells": [
    {
      "cell_type": "markdown",
      "metadata": {
        "id": "view-in-github",
        "colab_type": "text"
      },
      "source": [
        "<a href=\"https://colab.research.google.com/github/MOHAMMADIBRAHIMKHAN/ASSINGMENT-1/blob/main/ASSINGMENT_1_DAY_5_(finding_a_prime_no%2C_).ipynb\" target=\"_parent\"><img src=\"https://colab.research.google.com/assets/colab-badge.svg\" alt=\"Open In Colab\"/></a>"
      ]
    },
    {
      "cell_type": "code",
      "metadata": {
        "id": "KB5xDAG_JTKy"
      },
      "source": [
        "def prime(num):\r\n",
        "   for i in  range(2,num):\r\n",
        "    if num % i == 0 :\r\n",
        "      return  str(num)   + \"is not a prime number\"\r\n",
        "      break\r\n",
        "   else:\r\n",
        "      return  str(num)   +  \"is a prime number\"     "
      ],
      "execution_count": 11,
      "outputs": []
    },
    {
      "cell_type": "code",
      "metadata": {
        "colab": {
          "base_uri": "https://localhost:8080/",
          "height": 35
        },
        "id": "gNz5ojtGJmR6",
        "outputId": "0cfb25bd-8f41-40a3-f1fa-223cdb29cadc"
      },
      "source": [
        "prime(7)"
      ],
      "execution_count": 12,
      "outputs": [
        {
          "output_type": "execute_result",
          "data": {
            "application/vnd.google.colaboratory.intrinsic+json": {
              "type": "string"
            },
            "text/plain": [
              "'7is a prime number'"
            ]
          },
          "metadata": {
            "tags": []
          },
          "execution_count": 12
        }
      ]
    },
    {
      "cell_type": "code",
      "metadata": {
        "colab": {
          "base_uri": "https://localhost:8080/",
          "height": 35
        },
        "id": "rHbFVr8LJexN",
        "outputId": "39d0a9f5-4865-4a35-f701-d5ea721ba9d3"
      },
      "source": [
        "prime(27)"
      ],
      "execution_count": 16,
      "outputs": [
        {
          "output_type": "execute_result",
          "data": {
            "application/vnd.google.colaboratory.intrinsic+json": {
              "type": "string"
            },
            "text/plain": [
              "'27is not a prime number'"
            ]
          },
          "metadata": {
            "tags": []
          },
          "execution_count": 16
        }
      ]
    },
    {
      "cell_type": "code",
      "metadata": {
        "colab": {
          "base_uri": "https://localhost:8080/",
          "height": 35
        },
        "id": "RsYlNB3EJfEh",
        "outputId": "fd62733b-2cc1-45f3-bb84-d416a915affc"
      },
      "source": [
        "prime(39)"
      ],
      "execution_count": 17,
      "outputs": [
        {
          "output_type": "execute_result",
          "data": {
            "application/vnd.google.colaboratory.intrinsic+json": {
              "type": "string"
            },
            "text/plain": [
              "'39is not a prime number'"
            ]
          },
          "metadata": {
            "tags": []
          },
          "execution_count": 17
        }
      ]
    },
    {
      "cell_type": "code",
      "metadata": {
        "colab": {
          "base_uri": "https://localhost:8080/",
          "height": 35
        },
        "id": "FeeNZ0r_JfGq",
        "outputId": "dc44b6d6-f47b-4f25-ca6e-072fc5d269e1"
      },
      "source": [
        "prime(19)"
      ],
      "execution_count": 15,
      "outputs": [
        {
          "output_type": "execute_result",
          "data": {
            "application/vnd.google.colaboratory.intrinsic+json": {
              "type": "string"
            },
            "text/plain": [
              "'19is a prime number'"
            ]
          },
          "metadata": {
            "tags": []
          },
          "execution_count": 15
        }
      ]
    },
    {
      "cell_type": "code",
      "metadata": {
        "colab": {
          "base_uri": "https://localhost:8080/",
          "height": 35
        },
        "id": "fsrntGI8Lg5u",
        "outputId": "322bbae7-e002-4df4-832c-3f59880e1260"
      },
      "source": [
        "prime(50)"
      ],
      "execution_count": 18,
      "outputs": [
        {
          "output_type": "execute_result",
          "data": {
            "application/vnd.google.colaboratory.intrinsic+json": {
              "type": "string"
            },
            "text/plain": [
              "'50is not a prime number'"
            ]
          },
          "metadata": {
            "tags": []
          },
          "execution_count": 18
        }
      ]
    },
    {
      "cell_type": "code",
      "metadata": {
        "colab": {
          "base_uri": "https://localhost:8080/",
          "height": 35
        },
        "id": "3S3-tt4MLhPl",
        "outputId": "4d2a7e91-4d5e-4cc6-e4a1-c00cc6ed91b5"
      },
      "source": [
        "prime(17)"
      ],
      "execution_count": 19,
      "outputs": [
        {
          "output_type": "execute_result",
          "data": {
            "application/vnd.google.colaboratory.intrinsic+json": {
              "type": "string"
            },
            "text/plain": [
              "'17is a prime number'"
            ]
          },
          "metadata": {
            "tags": []
          },
          "execution_count": 19
        }
      ]
    },
    {
      "cell_type": "code",
      "metadata": {
        "id": "sbcpOghTJfSs"
      },
      "source": [
        ""
      ],
      "execution_count": null,
      "outputs": []
    }
  ]
}