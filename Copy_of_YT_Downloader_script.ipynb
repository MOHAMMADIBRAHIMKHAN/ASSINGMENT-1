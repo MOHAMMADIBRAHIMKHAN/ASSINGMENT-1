{
  "nbformat": 4,
  "nbformat_minor": 0,
  "metadata": {
    "colab": {
      "name": "Copy of YT Downloader script.ipynb",
      "provenance": [],
      "authorship_tag": "ABX9TyNFfhyrcqxzAuslN4sERiSV",
      "include_colab_link": true
    },
    "kernelspec": {
      "name": "python3",
      "display_name": "Python 3"
    }
  },
  "cells": [
    {
      "cell_type": "markdown",
      "metadata": {
        "id": "view-in-github",
        "colab_type": "text"
      },
      "source": [
        "<a href=\"https://colab.research.google.com/github/MOHAMMADIBRAHIMKHAN/ASSINGMENT-1/blob/main/Copy_of_YT_Downloader_script.ipynb\" target=\"_parent\"><img src=\"https://colab.research.google.com/assets/colab-badge.svg\" alt=\"Open In Colab\"/></a>"
      ]
    },
    {
      "cell_type": "code",
      "metadata": {
        "colab": {
          "base_uri": "https://localhost:8080/"
        },
        "id": "KtFSnbNeQcMa",
        "outputId": "d61d2fa2-944a-4a05-dc18-516e18fea3aa"
      },
      "source": [
        "! pip install pytube3"
      ],
      "execution_count": null,
      "outputs": [
        {
          "output_type": "stream",
          "text": [
            "Requirement already satisfied: pytube3 in /usr/local/lib/python3.6/dist-packages (9.6.4)\n",
            "Requirement already satisfied: typing-extensions in /usr/local/lib/python3.6/dist-packages (from pytube3) (3.7.4.3)\n"
          ],
          "name": "stdout"
        }
      ]
    },
    {
      "cell_type": "code",
      "metadata": {
        "colab": {
          "base_uri": "https://localhost:8080/"
        },
        "id": "CEE3SA_fQrel",
        "outputId": "9000c3f6-8bf5-4a49-c8a9-68d7a94a988b"
      },
      "source": [
        "! pip install git+https://github.com/pytube/pytube"
      ],
      "execution_count": null,
      "outputs": [
        {
          "output_type": "stream",
          "text": [
            "Collecting git+https://github.com/pytube/pytube\n",
            "  Cloning https://github.com/pytube/pytube to /tmp/pip-req-build-7iazx_k9\n",
            "  Running command git clone -q https://github.com/pytube/pytube /tmp/pip-req-build-7iazx_k9\n",
            "Requirement already satisfied (use --upgrade to upgrade): pytube==10.5.0 from git+https://github.com/pytube/pytube in /usr/local/lib/python3.6/dist-packages\n",
            "Requirement already satisfied: typing_extensions in /usr/local/lib/python3.6/dist-packages (from pytube==10.5.0) (3.7.4.3)\n",
            "Building wheels for collected packages: pytube\n",
            "  Building wheel for pytube (setup.py) ... \u001b[?25l\u001b[?25hdone\n",
            "  Created wheel for pytube: filename=pytube-10.5.0-cp36-none-any.whl size=41699 sha256=d62f47aa12a47e1fd6d12d5f552abedc56fc35b0f151aa16f01491e596b69a9f\n",
            "  Stored in directory: /tmp/pip-ephem-wheel-cache-ir87ucyl/wheels/34/e9/71/12f7c6e92a0a5268282057371c9caa69c07dafc0ccb917099d\n",
            "Successfully built pytube\n"
          ],
          "name": "stdout"
        }
      ]
    },
    {
      "cell_type": "code",
      "metadata": {
        "id": "Nto7EgxSQrq8"
      },
      "source": [
        "from pytube import  YouTube"
      ],
      "execution_count": null,
      "outputs": []
    },
    {
      "cell_type": "code",
      "metadata": {
        "colab": {
          "base_uri": "https://localhost:8080/",
          "height": 35
        },
        "id": "T0Szl6lVQrxX",
        "outputId": "3b614b8e-8b74-46bf-ca1b-f0230716f07c"
      },
      "source": [
        "YouTube('https://youtu.be/5gypil1xUUo').streams.first().download()"
      ],
      "execution_count": null,
      "outputs": [
        {
          "output_type": "execute_result",
          "data": {
            "application/vnd.google.colaboratory.intrinsic+json": {
              "type": "string"
            },
            "text/plain": [
              "'/content/Charlie BGM  (8D AUDIO)  creation3  USE EARPHONES.mp4'"
            ]
          },
          "metadata": {
            "tags": []
          },
          "execution_count": 25
        }
      ]
    },
    {
      "cell_type": "code",
      "metadata": {
        "id": "RjI4QjWbQr3K"
      },
      "source": [
        "url = \"https://youtu.be/5gypil1xUUo\""
      ],
      "execution_count": null,
      "outputs": []
    },
    {
      "cell_type": "code",
      "metadata": {
        "id": "e8asuqDvQr5V"
      },
      "source": [
        "yt = YouTube(url)"
      ],
      "execution_count": null,
      "outputs": []
    },
    {
      "cell_type": "code",
      "metadata": {
        "id": "NLmGrddoQr8b",
        "colab": {
          "base_uri": "https://localhost:8080/",
          "height": 35
        },
        "outputId": "c65f82b7-985b-4f2d-fb3c-49a1c32404f2"
      },
      "source": [
        "yt.streams.first().download()"
      ],
      "execution_count": null,
      "outputs": [
        {
          "output_type": "execute_result",
          "data": {
            "application/vnd.google.colaboratory.intrinsic+json": {
              "type": "string"
            },
            "text/plain": [
              "'/content/Charlie BGM  (8D AUDIO)  creation3  USE EARPHONES.mp4'"
            ]
          },
          "metadata": {
            "tags": []
          },
          "execution_count": 28
        }
      ]
    },
    {
      "cell_type": "code",
      "metadata": {
        "id": "ofC-6LyyQr_j"
      },
      "source": [
        ""
      ],
      "execution_count": null,
      "outputs": []
    },
    {
      "cell_type": "code",
      "metadata": {
        "id": "zctHg5DaQsCo"
      },
      "source": [
        ""
      ],
      "execution_count": null,
      "outputs": []
    },
    {
      "cell_type": "code",
      "metadata": {
        "id": "lXtXMZUxQsFB"
      },
      "source": [
        ""
      ],
      "execution_count": null,
      "outputs": []
    },
    {
      "cell_type": "code",
      "metadata": {
        "id": "DVBZqqLRQsHw"
      },
      "source": [
        ""
      ],
      "execution_count": null,
      "outputs": []
    },
    {
      "cell_type": "code",
      "metadata": {
        "id": "43cYiwLYQsY4"
      },
      "source": [
        ""
      ],
      "execution_count": null,
      "outputs": []
    },
    {
      "cell_type": "code",
      "metadata": {
        "id": "OKaSzXTAQsa-"
      },
      "source": [
        ""
      ],
      "execution_count": null,
      "outputs": []
    },
    {
      "cell_type": "code",
      "metadata": {
        "id": "IMEkath5QseP"
      },
      "source": [
        ""
      ],
      "execution_count": null,
      "outputs": []
    },
    {
      "cell_type": "code",
      "metadata": {
        "id": "NV6sjUzJQsgg"
      },
      "source": [
        ""
      ],
      "execution_count": null,
      "outputs": []
    },
    {
      "cell_type": "code",
      "metadata": {
        "id": "zhZDcxNUQsjQ"
      },
      "source": [
        ""
      ],
      "execution_count": null,
      "outputs": []
    },
    {
      "cell_type": "code",
      "metadata": {
        "id": "rb-dbhWbQsop"
      },
      "source": [
        ""
      ],
      "execution_count": null,
      "outputs": []
    },
    {
      "cell_type": "code",
      "metadata": {
        "id": "2zJOkmWIQtMK"
      },
      "source": [
        ""
      ],
      "execution_count": null,
      "outputs": []
    }
  ]
}