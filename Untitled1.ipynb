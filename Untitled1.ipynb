{
  "nbformat": 4,
  "nbformat_minor": 0,
  "metadata": {
    "colab": {
      "name": "Untitled1.ipynb",
      "provenance": [],
      "authorship_tag": "ABX9TyN31ZEyHTEiqfRVuxfU5eUf",
      "include_colab_link": true
    },
    "kernelspec": {
      "name": "python3",
      "display_name": "Python 3"
    }
  },
  "cells": [
    {
      "cell_type": "markdown",
      "metadata": {
        "id": "view-in-github",
        "colab_type": "text"
      },
      "source": [
        "<a href=\"https://colab.research.google.com/github/MOHAMMADIBRAHIMKHAN/ASSINGMENT-1/blob/main/Untitled1.ipynb\" target=\"_parent\"><img src=\"https://colab.research.google.com/assets/colab-badge.svg\" alt=\"Open In Colab\"/></a>"
      ]
    },
    {
      "cell_type": "code",
      "metadata": {
        "id": "PrT6-3WpIMrR"
      },
      "source": [
        "# ASSINGMENT 2"
      ],
      "execution_count": null,
      "outputs": []
    },
    {
      "cell_type": "code",
      "metadata": {
        "id": "-_ACiQzaIsDC"
      },
      "source": [
        "# EXPERIMENT WITH DICTIONARIES ->"
      ],
      "execution_count": null,
      "outputs": []
    },
    {
      "cell_type": "code",
      "metadata": {
        "id": "r32TBkLdIsJ3"
      },
      "source": [
        "# DICT"
      ],
      "execution_count": null,
      "outputs": []
    },
    {
      "cell_type": "code",
      "metadata": {
        "colab": {
          "base_uri": "https://localhost:8080/"
        },
        "id": "8WcCeJ5cIsQD",
        "outputId": "a8f7980a-5cba-4c28-e1df-3ceceaa336ef"
      },
      "source": [
        "dict={\"key\":100,\"key1\":200,\"key2\":300,\"items\":\"bat\",}\r\n",
        "dict.get(\"key1\")"
      ],
      "execution_count": 31,
      "outputs": [
        {
          "output_type": "execute_result",
          "data": {
            "text/plain": [
              "200"
            ]
          },
          "metadata": {
            "tags": []
          },
          "execution_count": 31
        }
      ]
    },
    {
      "cell_type": "code",
      "metadata": {
        "colab": {
          "base_uri": "https://localhost:8080/"
        },
        "id": "4VYzqVVBIsSX",
        "outputId": "711fcc24-b6cb-49b0-dd2a-da72e773d40e"
      },
      "source": [
        "dict[\"key\"]"
      ],
      "execution_count": 2,
      "outputs": [
        {
          "output_type": "execute_result",
          "data": {
            "text/plain": [
              "100"
            ]
          },
          "metadata": {
            "tags": []
          },
          "execution_count": 2
        }
      ]
    },
    {
      "cell_type": "code",
      "metadata": {
        "colab": {
          "base_uri": "https://localhost:8080/"
        },
        "id": "Hv_z2vWPIsWG",
        "outputId": "e58ad978-621b-48ab-9d04-af8a89d3738a"
      },
      "source": [
        "bioData={\"NAME\":\"JOHN\",\"AGE\":20,\"LOC\":\"HYDERABAD\",\"OCCU\":\"PROGRAMMER\"}\r\n",
        "bioData"
      ],
      "execution_count": 7,
      "outputs": [
        {
          "output_type": "execute_result",
          "data": {
            "text/plain": [
              "{'AGE': 20, 'LOC': 'HYDERABAD', 'NAME': 'JOHN', 'OCCU': 'PROGRAMMER'}"
            ]
          },
          "metadata": {
            "tags": []
          },
          "execution_count": 7
        }
      ]
    },
    {
      "cell_type": "code",
      "metadata": {
        "colab": {
          "base_uri": "https://localhost:8080/",
          "height": 35
        },
        "id": "jiHZAEfFIsZe",
        "outputId": "6b3e5477-833b-4867-dd51-183d42b78bdf"
      },
      "source": [
        "bioData.get(\"LOC\")"
      ],
      "execution_count": 10,
      "outputs": [
        {
          "output_type": "execute_result",
          "data": {
            "application/vnd.google.colaboratory.intrinsic+json": {
              "type": "string"
            },
            "text/plain": [
              "'HYDERABAD'"
            ]
          },
          "metadata": {
            "tags": []
          },
          "execution_count": 10
        }
      ]
    },
    {
      "cell_type": "code",
      "metadata": {
        "colab": {
          "base_uri": "https://localhost:8080/"
        },
        "id": "MsD2szRXM6x2",
        "outputId": "2c950860-901b-44ed-a9ba-5254ba89a16c"
      },
      "source": [
        "bioData[\"AGE\"]"
      ],
      "execution_count": 33,
      "outputs": [
        {
          "output_type": "execute_result",
          "data": {
            "text/plain": [
              "20"
            ]
          },
          "metadata": {
            "tags": []
          },
          "execution_count": 33
        }
      ]
    },
    {
      "cell_type": "code",
      "metadata": {
        "colab": {
          "base_uri": "https://localhost:8080/"
        },
        "id": "xLL2bwdDTMy8",
        "outputId": "688639d2-d397-42b9-9535-74da0d3cd276"
      },
      "source": [
        "bioData.values()"
      ],
      "execution_count": 73,
      "outputs": [
        {
          "output_type": "execute_result",
          "data": {
            "text/plain": [
              "dict_values(['JOHN', 20, 'HYDERABAD', 'PROGRAMMER'])"
            ]
          },
          "metadata": {
            "tags": []
          },
          "execution_count": 73
        }
      ]
    },
    {
      "cell_type": "code",
      "metadata": {
        "colab": {
          "base_uri": "https://localhost:8080/"
        },
        "id": "pc7Zznb7Isff",
        "outputId": "ba00bba7-885e-4735-bd0f-b08527f5c627"
      },
      "source": [
        "int()"
      ],
      "execution_count": 36,
      "outputs": [
        {
          "output_type": "execute_result",
          "data": {
            "text/plain": [
              "0"
            ]
          },
          "metadata": {
            "tags": []
          },
          "execution_count": 36
        }
      ]
    },
    {
      "cell_type": "code",
      "metadata": {
        "colab": {
          "base_uri": "https://localhost:8080/"
        },
        "id": "t0kK5c7QM7A-",
        "outputId": "d28ed740-a61f-4fec-e3d3-b856480443ba"
      },
      "source": [
        "dict.items()"
      ],
      "execution_count": 14,
      "outputs": [
        {
          "output_type": "execute_result",
          "data": {
            "text/plain": [
              "dict_items([('key', 100), ('key1', 200), ('key2', 300)])"
            ]
          },
          "metadata": {
            "tags": []
          },
          "execution_count": 14
        }
      ]
    },
    {
      "cell_type": "code",
      "metadata": {
        "id": "-8Bcgy2LIscP"
      },
      "source": [
        "dict.clear()"
      ],
      "execution_count": 42,
      "outputs": []
    },
    {
      "cell_type": "code",
      "metadata": {
        "colab": {
          "base_uri": "https://localhost:8080/"
        },
        "id": "wY6Dk3bLIsh4",
        "outputId": "4666fd90-9451-45da-c962-b49b680bab39"
      },
      "source": [
        "dict"
      ],
      "execution_count": 38,
      "outputs": [
        {
          "output_type": "execute_result",
          "data": {
            "text/plain": [
              "{'key': 100, 'key1': 200, 'key2': 300}"
            ]
          },
          "metadata": {
            "tags": []
          },
          "execution_count": 38
        }
      ]
    },
    {
      "cell_type": "code",
      "metadata": {
        "colab": {
          "base_uri": "https://localhost:8080/"
        },
        "id": "T9Jk-0JpIskk",
        "outputId": "297380cd-e019-4ab5-d46d-b02f2b459615"
      },
      "source": [
        "float()"
      ],
      "execution_count": 48,
      "outputs": [
        {
          "output_type": "execute_result",
          "data": {
            "text/plain": [
              "0.0"
            ]
          },
          "metadata": {
            "tags": []
          },
          "execution_count": 48
        }
      ]
    },
    {
      "cell_type": "code",
      "metadata": {
        "colab": {
          "base_uri": "https://localhost:8080/"
        },
        "id": "W1eQfeeRIspm",
        "outputId": "b9547e36-2182-4875-da43-9705eac49196"
      },
      "source": [
        "bioData.items()"
      ],
      "execution_count": 59,
      "outputs": [
        {
          "output_type": "execute_result",
          "data": {
            "text/plain": [
              "dict_items([('NAME', 'JOHN'), ('AGE', 20), ('LOC', 'HYDERABAD'), ('OCCU', 'PROGRAMMER')])"
            ]
          },
          "metadata": {
            "tags": []
          },
          "execution_count": 59
        }
      ]
    },
    {
      "cell_type": "code",
      "metadata": {
        "colab": {
          "base_uri": "https://localhost:8080/"
        },
        "id": "AfHl7XmxIsup",
        "outputId": "2efa180a-2d5f-4830-fe52-befc2d09767a"
      },
      "source": [
        "DavidDetails={\"NAME\":\"DAVID\",\"DOB\":\"ADFCE\",\"LOC\":\"MUMBAI\"}\r\n",
        "DavidDetails"
      ],
      "execution_count": 68,
      "outputs": [
        {
          "output_type": "execute_result",
          "data": {
            "text/plain": [
              "{'DOB': 'ADFCE', 'LOC': 'MUMBAI', 'NAME': 'DAVID'}"
            ]
          },
          "metadata": {
            "tags": []
          },
          "execution_count": 68
        }
      ]
    },
    {
      "cell_type": "code",
      "metadata": {
        "colab": {
          "base_uri": "https://localhost:8080/"
        },
        "id": "c3zO4yZCIsxY",
        "outputId": "f1539ce6-892c-4011-8c50-7679879cfe90"
      },
      "source": [
        "DavidDetails.values()"
      ],
      "execution_count": 72,
      "outputs": [
        {
          "output_type": "execute_result",
          "data": {
            "text/plain": [
              "dict_values(['DAVID', 'ADFCE', 'MUMBAI'])"
            ]
          },
          "metadata": {
            "tags": []
          },
          "execution_count": 72
        }
      ]
    },
    {
      "cell_type": "code",
      "metadata": {
        "id": "F4RepJOeIs1E"
      },
      "source": [
        "bioData.update()"
      ],
      "execution_count": 75,
      "outputs": []
    },
    {
      "cell_type": "code",
      "metadata": {
        "colab": {
          "base_uri": "https://localhost:8080/"
        },
        "id": "PXn4ilY0Is4G",
        "outputId": "39534370-50ce-4598-a0ae-424788ad110e"
      },
      "source": [
        "DavidDetails.keys()"
      ],
      "execution_count": 76,
      "outputs": [
        {
          "output_type": "execute_result",
          "data": {
            "text/plain": [
              "dict_keys(['NAME', 'DOB', 'LOC'])"
            ]
          },
          "metadata": {
            "tags": []
          },
          "execution_count": 76
        }
      ]
    },
    {
      "cell_type": "code",
      "metadata": {
        "id": "UN8A5Gu3ItU1"
      },
      "source": [
        ""
      ],
      "execution_count": null,
      "outputs": []
    }
  ]
}