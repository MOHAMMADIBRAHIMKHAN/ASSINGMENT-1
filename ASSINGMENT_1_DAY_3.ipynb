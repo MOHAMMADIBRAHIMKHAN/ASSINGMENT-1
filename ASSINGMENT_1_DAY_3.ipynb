{
  "nbformat": 4,
  "nbformat_minor": 0,
  "metadata": {
    "colab": {
      "name": "ASSINGMENT 1 DAY 3.ipynb",
      "provenance": [],
      "collapsed_sections": [],
      "authorship_tag": "ABX9TyOn6W9pEtt8T3vTnWelJ4sE",
      "include_colab_link": true
    },
    "kernelspec": {
      "name": "python3",
      "display_name": "Python 3"
    }
  },
  "cells": [
    {
      "cell_type": "markdown",
      "metadata": {
        "id": "view-in-github",
        "colab_type": "text"
      },
      "source": [
        "<a href=\"https://colab.research.google.com/github/MOHAMMADIBRAHIMKHAN/ASSINGMENT-1/blob/main/ASSINGMENT_1_DAY_3.ipynb\" target=\"_parent\"><img src=\"https://colab.research.google.com/assets/colab-badge.svg\" alt=\"Open In Colab\"/></a>"
      ]
    },
    {
      "cell_type": "markdown",
      "metadata": {
        "id": "wrWQexhCjpIY"
      },
      "source": [
        "ASSINGMENT 1 DAY 3\r\n"
      ]
    },
    {
      "cell_type": "code",
      "metadata": {
        "id": "wZ11Nbs2jFOA"
      },
      "source": [
        "# ASSINGMENT 1 DAY 3"
      ],
      "execution_count": null,
      "outputs": []
    },
    {
      "cell_type": "code",
      "metadata": {
        "id": "Hp9V4Tp8jSXb"
      },
      "source": [
        "# PROGRAM FOR LANDING A PLANE "
      ],
      "execution_count": null,
      "outputs": []
    },
    {
      "cell_type": "code",
      "metadata": {
        "id": "hRBtwCIr_D2_"
      },
      "source": [
        "# if elif else statements"
      ],
      "execution_count": null,
      "outputs": []
    },
    {
      "cell_type": "code",
      "metadata": {
        "id": "gqkv5C0cW6X_",
        "colab": {
          "base_uri": "https://localhost:8080/"
        },
        "outputId": "d0c76984-4ed0-4041-815f-195d5e36e590"
      },
      "source": [
        "input(\"x value\")\r\n",
        "a=1000\r\n",
        "b=5000\r\n",
        "if (\"x is <a\"):\r\n",
        "    print(\"safe to land\")\r\n",
        "elif (\"x is >a\"):\r\n",
        "    print(\"come down to a\")  \r\n",
        "elif (\"x is <=b\"):\r\n",
        "    print(\"fly and try again later\") \r\n",
        "else:\r\n",
        "  print(\"do not land\")         "
      ],
      "execution_count": 138,
      "outputs": [
        {
          "output_type": "stream",
          "text": [
            "x value957\n",
            "safe to land\n"
          ],
          "name": "stdout"
        }
      ]
    },
    {
      "cell_type": "code",
      "metadata": {
        "id": "HJLtHIcuW64z",
        "colab": {
          "base_uri": "https://localhost:8080/"
        },
        "outputId": "9a90dbea-f85c-4e11-812a-6e3b3e7ef44f"
      },
      "source": [
        "x=4250\r\n",
        "a= 1000 \r\n",
        "b= 5000\r\n",
        "if (x<a):\r\n",
        "   print(\"safe to land\")\r\n",
        "elif (x>a<b):\r\n",
        "    print(\"come to a\")\r\n",
        "else:\r\n",
        "    print(\"fly and try again later\")\r\n",
        "       \r\n"
      ],
      "execution_count": 155,
      "outputs": [
        {
          "output_type": "stream",
          "text": [
            "come to a\n"
          ],
          "name": "stdout"
        }
      ]
    },
    {
      "cell_type": "code",
      "metadata": {
        "id": "NDGLWvlTsnMq",
        "colab": {
          "base_uri": "https://localhost:8080/"
        },
        "outputId": "498e2662-1750-4aaf-b407-ffb505e6f99c"
      },
      "source": [
        "x=2400\r\n",
        "a=1000\r\n",
        "b=5000\r\n",
        "if (x>b):\r\n",
        "  print(\"fly and try again later\")\r\n",
        "else :\r\n",
        "    print(\"land when x==a\")"
      ],
      "execution_count": 160,
      "outputs": [
        {
          "output_type": "stream",
          "text": [
            "land when x==a\n"
          ],
          "name": "stdout"
        }
      ]
    },
    {
      "cell_type": "code",
      "metadata": {
        "colab": {
          "base_uri": "https://localhost:8080/"
        },
        "id": "OKxafTRozzcn",
        "outputId": "44a97a40-c886-41eb-c607-f515889cb0be"
      },
      "source": [
        "x=5600\r\n",
        "a=1000\r\n",
        "b=5000\r\n",
        "if (x>b):\r\n",
        "   print(\"fly and try again later\")\r\n",
        "else :\r\n",
        "  print(\"land when x==a\")   "
      ],
      "execution_count": 162,
      "outputs": [
        {
          "output_type": "stream",
          "text": [
            "fly and try again later\n"
          ],
          "name": "stdout"
        }
      ]
    },
    {
      "cell_type": "code",
      "metadata": {
        "id": "A63j-_qP4DQN"
      },
      "source": [
        ""
      ],
      "execution_count": null,
      "outputs": []
    }
  ]
}