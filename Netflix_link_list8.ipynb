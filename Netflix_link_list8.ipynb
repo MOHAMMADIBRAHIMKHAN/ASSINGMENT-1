{
  "nbformat": 4,
  "nbformat_minor": 0,
  "metadata": {
    "colab": {
      "name": "Netflix link list8.ipynb",
      "provenance": [],
      "collapsed_sections": [],
      "authorship_tag": "ABX9TyO0agevvUNkh66Q2D7LSeH2",
      "include_colab_link": true
    },
    "kernelspec": {
      "name": "python3",
      "display_name": "Python 3"
    }
  },
  "cells": [
    {
      "cell_type": "markdown",
      "metadata": {
        "id": "view-in-github",
        "colab_type": "text"
      },
      "source": [
        "<a href=\"https://colab.research.google.com/github/MOHAMMADIBRAHIMKHAN/ASSINGMENT-1/blob/main/Netflix_link_list8.ipynb\" target=\"_parent\"><img src=\"https://colab.research.google.com/assets/colab-badge.svg\" alt=\"Open In Colab\"/></a>"
      ]
    },
    {
      "cell_type": "markdown",
      "metadata": {
        "id": "fXqjfUw2ORMj"
      },
      "source": [
        "##Netflix movie list"
      ]
    },
    {
      "cell_type": "code",
      "metadata": {
        "id": "q4JVTio4Ncxn",
        "colab": {
          "base_uri": "https://localhost:8080/"
        },
        "outputId": "7e391dd2-0786-4169-c532-00a55e93579a"
      },
      "source": [
        "class MovieNode:\r\n",
        "    def __init__(self,movieName,relDate):\r\n",
        "       self.movieName = movieName\r\n",
        "       self.relDate = relDate\r\n",
        "       self.next = None\r\n",
        "       return\r\n",
        "\r\n",
        "class NetflixMovieList:\r\n",
        "     def __init__(self):\r\n",
        "        self.head = None\r\n",
        "           \r\n",
        "\r\n",
        "     def addMovie(self,movieName,relDate):\r\n",
        "         add = MovieNode(movieName,relDate)\r\n",
        "         if self.head == None:\r\n",
        "              self.head = add\r\n",
        "              return\r\n",
        "         add.next = self.head\r\n",
        "         self.head = add\r\n",
        "         return\r\n",
        "    \r\n",
        "     def  displayMovies(self):\r\n",
        "        if self.head == None:\r\n",
        "           print(\"No movie to show\")\r\n",
        "           return      \r\n",
        "        temp = self.head\r\n",
        "\r\n",
        "        while(temp != None):\r\n",
        "           print(temp.movieName,temp.relDate, '->', end = \"\")\r\n",
        "           temp = temp.next\r\n",
        "        print('No movie to show')\r\n",
        "        return\r\n",
        "\r\n",
        "\r\n",
        "movie_list = NetflixMovieList()\r\n",
        "movie_list.addMovie('IRON MAN','12TH JUNE 2010')\r\n",
        "movie_list.addMovie('THOR','15TH JULY 2010')\r\n",
        "movie_list.addMovie('LION KING','10TH MARCH 2020')\r\n",
        "movie_list.displayMovies()\r\n",
        "         "
      ],
      "execution_count": 96,
      "outputs": [
        {
          "output_type": "stream",
          "text": [
            "LION KING 10TH MARCH 2020 ->THOR 15TH JULY 2010 ->IRON MAN 12TH JUNE 2010 ->No movie to show\n"
          ],
          "name": "stdout"
        }
      ]
    },
    {
      "cell_type": "code",
      "metadata": {
        "id": "1oCAmJWaNdhO",
        "colab": {
          "base_uri": "https://localhost:8080/"
        },
        "outputId": "a5b04e22-3492-4a7c-d0eb-4e55c16320aa"
      },
      "source": [
        "class MovieNode:\r\n",
        "    def __init__(self,movieName,relDate):\r\n",
        "       self.movieName = movieName\r\n",
        "       self.relDate = relDate\r\n",
        "       self.next = None\r\n",
        "       return\r\n",
        "\r\n",
        "class NetflixMovieList:\r\n",
        "     def __init__(self):\r\n",
        "        self.head = None\r\n",
        "           \r\n",
        "\r\n",
        "     def addMovie(self,movieName,relDate):\r\n",
        "         add = MovieNode(movieName,relDate)\r\n",
        "         if self.head == None:\r\n",
        "              self.head = add\r\n",
        "              return\r\n",
        "         add.next = self.head\r\n",
        "         self.head = add\r\n",
        "         return\r\n",
        "     def  showNew(self,movieName,relDate):\r\n",
        "         showNew =  MovieNode(movieName,relDate)\r\n",
        "         self.head = MovieNode(movieName,relDate)\r\n",
        "         showNew = self.head\r\n",
        "         return \r\n",
        "     def  displayMovies(self):\r\n",
        "        if self.head == None:\r\n",
        "           print(\"No movie to show\")\r\n",
        "           return      \r\n",
        "        temp = self.head\r\n",
        "\r\n",
        "        while(temp != None):\r\n",
        "           print(temp.movieName,temp.relDate, '->', end = \"\")\r\n",
        "           temp = temp.next\r\n",
        "        print('No movie to show')\r\n",
        "        return\r\n",
        "\r\n",
        "\r\n",
        "movie_list = NetflixMovieList()\r\n",
        "movie_list.addMovie('IRON MAN','12TH JUNE 2010')\r\n",
        "movie_list.addMovie('THOR','15TH JULY 2010')\r\n",
        "movie_list.addMovie('LION KING','10TH MARCH 2020')\r\n",
        "movie_list.showNew('LION KING','10TH MARCH 2020')\r\n",
        "movie_list.displayMovies()\r\n",
        "            "
      ],
      "execution_count": 106,
      "outputs": [
        {
          "output_type": "stream",
          "text": [
            "LION KING 10TH MARCH 2020 ->No movie to show\n"
          ],
          "name": "stdout"
        }
      ]
    },
    {
      "cell_type": "code",
      "metadata": {
        "id": "Zx25vxNVdenF"
      },
      "source": [
        ""
      ],
      "execution_count": 92,
      "outputs": []
    }
  ]
}