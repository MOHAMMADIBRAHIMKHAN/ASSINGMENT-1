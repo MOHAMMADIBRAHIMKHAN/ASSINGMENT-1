{
  "nbformat": 4,
  "nbformat_minor": 0,
  "metadata": {
    "colab": {
      "name": "Untitled7.ipynb",
      "provenance": [],
      "authorship_tag": "ABX9TyM6PVb9EyjjKRJkgfKtLzzT",
      "include_colab_link": true
    },
    "kernelspec": {
      "name": "python3",
      "display_name": "Python 3"
    }
  },
  "cells": [
    {
      "cell_type": "markdown",
      "metadata": {
        "id": "view-in-github",
        "colab_type": "text"
      },
      "source": [
        "<a href=\"https://colab.research.google.com/github/MOHAMMADIBRAHIMKHAN/ASSINGMENT-1/blob/main/%20TIME%20COMPLEXITY%207.ipynb\" target=\"_parent\"><img src=\"https://colab.research.google.com/assets/colab-badge.svg\" alt=\"Open In Colab\"/></a>"
      ]
    },
    {
      "cell_type": "code",
      "metadata": {
        "id": "3_7S9VLnu2Xz"
      },
      "source": [
        "## find the time complexity of pseudo code"
      ],
      "execution_count": 1,
      "outputs": []
    },
    {
      "cell_type": "code",
      "metadata": {
        "id": "qQUV7gTLu3id"
      },
      "source": [
        " for(i=1;i<=n;i=i*2)\r\n",
        "    for(j=1; j<=i; j++)\r\n",
        "      print(\"hello\")"
      ],
      "execution_count": null,
      "outputs": []
    },
    {
      "cell_type": "code",
      "metadata": {
        "id": "dcmge2xHvbmA"
      },
      "source": [
        " ans = tn=O(n^2)"
      ],
      "execution_count": null,
      "outputs": []
    }
  ]
}