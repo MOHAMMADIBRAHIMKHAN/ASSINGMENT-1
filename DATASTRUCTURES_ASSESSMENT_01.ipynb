{
  "nbformat": 4,
  "nbformat_minor": 0,
  "metadata": {
    "colab": {
      "name": "DATASTRUCTURES ASSESSMENT 01.ipynb",
      "provenance": [],
      "authorship_tag": "ABX9TyNjyGQXK+w+Q+itZmpm+uQY",
      "include_colab_link": true
    },
    "kernelspec": {
      "name": "python3",
      "display_name": "Python 3"
    }
  },
  "cells": [
    {
      "cell_type": "markdown",
      "metadata": {
        "id": "view-in-github",
        "colab_type": "text"
      },
      "source": [
        "<a href=\"https://colab.research.google.com/github/MOHAMMADIBRAHIMKHAN/ASSINGMENT-1/blob/main/DATASTRUCTURES_ASSESSMENT_01.ipynb\" target=\"_parent\"><img src=\"https://colab.research.google.com/assets/colab-badge.svg\" alt=\"Open In Colab\"/></a>"
      ]
    },
    {
      "cell_type": "markdown",
      "metadata": {
        "id": "yTVERDuBjkOZ"
      },
      "source": [
        "## FIRST ASSESSMENT"
      ]
    },
    {
      "cell_type": "markdown",
      "metadata": {
        "id": "jGa4rNa7ignJ"
      },
      "source": [
        "# CALCULATING X TO THE POWER Y\r\n"
      ]
    },
    {
      "cell_type": "code",
      "metadata": {
        "colab": {
          "base_uri": "https://localhost:8080/"
        },
        "id": "EeT_A52Rd4zS",
        "outputId": "12cd31cc-2bc2-4029-e86a-f28dcd15d659"
      },
      "source": [
        " x=int(input('enter the valx: '))\r\n",
        " y=int(input('enter the valy: '))\r\n",
        " print(x**y)"
      ],
      "execution_count": 21,
      "outputs": [
        {
          "output_type": "stream",
          "text": [
            "enter the valx: 2\n",
            "enter the valy: 10\n",
            "1024\n"
          ],
          "name": "stdout"
        }
      ]
    },
    {
      "cell_type": "markdown",
      "metadata": {
        "id": "4gzE6uiboMYX"
      },
      "source": [
        "## PRINT THE NUMBERS DIVISIBLE BY 3 FROM THE LIST"
      ]
    },
    {
      "cell_type": "code",
      "metadata": {
        "id": "-CFpo1RDd5nm"
      },
      "source": [
        "list=[3,6,9,20,11,12,15,17,16,18,19,10,21,24,25,28,30]"
      ],
      "execution_count": 22,
      "outputs": []
    },
    {
      "cell_type": "code",
      "metadata": {
        "colab": {
          "base_uri": "https://localhost:8080/"
        },
        "id": "eDJvcyUXd5oV",
        "outputId": "b3167909-25cd-41d3-aa75-17746d7574b0"
      },
      "source": [
        "type(list)"
      ],
      "execution_count": 30,
      "outputs": [
        {
          "output_type": "execute_result",
          "data": {
            "text/plain": [
              "list"
            ]
          },
          "metadata": {
            "tags": []
          },
          "execution_count": 30
        }
      ]
    },
    {
      "cell_type": "code",
      "metadata": {
        "colab": {
          "base_uri": "https://localhost:8080/"
        },
        "id": "Hj6tOqlWlOls",
        "outputId": "46ca8a56-a4ad-4d48-e601-f65b2294d287"
      },
      "source": [
        "for item in list:\r\n",
        "  if item%3==0:\r\n",
        "     print(item)"
      ],
      "execution_count": 34,
      "outputs": [
        {
          "output_type": "stream",
          "text": [
            "3\n",
            "6\n",
            "9\n",
            "12\n",
            "15\n",
            "18\n",
            "21\n",
            "24\n",
            "30\n"
          ],
          "name": "stdout"
        }
      ]
    }
  ]
}